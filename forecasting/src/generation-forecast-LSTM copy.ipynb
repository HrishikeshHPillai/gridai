{
 "cells": [
  {
   "cell_type": "code",
   "execution_count": 7,
   "metadata": {},
   "outputs": [],
   "source": [
    "import tensorflow as tf\n",
    "import pandas as pd\n",
    "import matplotlib.pyplot as plt"
   ]
  },
  {
   "cell_type": "code",
   "execution_count": 8,
   "metadata": {},
   "outputs": [
    {
     "data": {
      "text/html": [
       "<div>\n",
       "<style scoped>\n",
       "    .dataframe tbody tr th:only-of-type {\n",
       "        vertical-align: middle;\n",
       "    }\n",
       "\n",
       "    .dataframe tbody tr th {\n",
       "        vertical-align: top;\n",
       "    }\n",
       "\n",
       "    .dataframe thead th {\n",
       "        text-align: right;\n",
       "    }\n",
       "</style>\n",
       "<table border=\"1\" class=\"dataframe\">\n",
       "  <thead>\n",
       "    <tr style=\"text-align: right;\">\n",
       "      <th></th>\n",
       "      <th>Radiation</th>\n",
       "      <th>Temperature</th>\n",
       "      <th>Pressure</th>\n",
       "      <th>Humidity</th>\n",
       "      <th>WindDirection(Degrees)</th>\n",
       "      <th>Speed</th>\n",
       "    </tr>\n",
       "    <tr>\n",
       "      <th>datetime</th>\n",
       "      <th></th>\n",
       "      <th></th>\n",
       "      <th></th>\n",
       "      <th></th>\n",
       "      <th></th>\n",
       "      <th></th>\n",
       "    </tr>\n",
       "  </thead>\n",
       "  <tbody>\n",
       "    <tr>\n",
       "      <th>2016-09-29 23:55:26</th>\n",
       "      <td>1.21</td>\n",
       "      <td>48</td>\n",
       "      <td>30.46</td>\n",
       "      <td>59</td>\n",
       "      <td>177.39</td>\n",
       "      <td>5.62</td>\n",
       "    </tr>\n",
       "    <tr>\n",
       "      <th>2016-09-29 23:50:23</th>\n",
       "      <td>1.21</td>\n",
       "      <td>48</td>\n",
       "      <td>30.46</td>\n",
       "      <td>58</td>\n",
       "      <td>176.78</td>\n",
       "      <td>3.37</td>\n",
       "    </tr>\n",
       "    <tr>\n",
       "      <th>2016-09-29 23:45:26</th>\n",
       "      <td>1.23</td>\n",
       "      <td>48</td>\n",
       "      <td>30.46</td>\n",
       "      <td>57</td>\n",
       "      <td>158.75</td>\n",
       "      <td>3.37</td>\n",
       "    </tr>\n",
       "    <tr>\n",
       "      <th>2016-09-29 23:40:21</th>\n",
       "      <td>1.21</td>\n",
       "      <td>48</td>\n",
       "      <td>30.46</td>\n",
       "      <td>60</td>\n",
       "      <td>137.71</td>\n",
       "      <td>3.37</td>\n",
       "    </tr>\n",
       "    <tr>\n",
       "      <th>2016-09-29 23:35:24</th>\n",
       "      <td>1.17</td>\n",
       "      <td>48</td>\n",
       "      <td>30.46</td>\n",
       "      <td>62</td>\n",
       "      <td>104.95</td>\n",
       "      <td>5.62</td>\n",
       "    </tr>\n",
       "    <tr>\n",
       "      <th>...</th>\n",
       "      <td>...</td>\n",
       "      <td>...</td>\n",
       "      <td>...</td>\n",
       "      <td>...</td>\n",
       "      <td>...</td>\n",
       "      <td>...</td>\n",
       "    </tr>\n",
       "    <tr>\n",
       "      <th>2016-12-01 00:20:04</th>\n",
       "      <td>1.22</td>\n",
       "      <td>44</td>\n",
       "      <td>30.43</td>\n",
       "      <td>102</td>\n",
       "      <td>145.42</td>\n",
       "      <td>6.75</td>\n",
       "    </tr>\n",
       "    <tr>\n",
       "      <th>2016-12-01 00:15:01</th>\n",
       "      <td>1.17</td>\n",
       "      <td>44</td>\n",
       "      <td>30.42</td>\n",
       "      <td>102</td>\n",
       "      <td>117.78</td>\n",
       "      <td>6.75</td>\n",
       "    </tr>\n",
       "    <tr>\n",
       "      <th>2016-12-01 00:10:01</th>\n",
       "      <td>1.20</td>\n",
       "      <td>44</td>\n",
       "      <td>30.42</td>\n",
       "      <td>102</td>\n",
       "      <td>145.19</td>\n",
       "      <td>9.00</td>\n",
       "    </tr>\n",
       "    <tr>\n",
       "      <th>2016-12-01 00:05:02</th>\n",
       "      <td>1.23</td>\n",
       "      <td>44</td>\n",
       "      <td>30.42</td>\n",
       "      <td>101</td>\n",
       "      <td>164.19</td>\n",
       "      <td>7.87</td>\n",
       "    </tr>\n",
       "    <tr>\n",
       "      <th>2016-12-01 00:00:02</th>\n",
       "      <td>1.20</td>\n",
       "      <td>44</td>\n",
       "      <td>30.43</td>\n",
       "      <td>101</td>\n",
       "      <td>83.59</td>\n",
       "      <td>3.37</td>\n",
       "    </tr>\n",
       "  </tbody>\n",
       "</table>\n",
       "<p>32686 rows × 6 columns</p>\n",
       "</div>"
      ],
      "text/plain": [
       "                     Radiation  Temperature  Pressure  Humidity  \\\n",
       "datetime                                                          \n",
       "2016-09-29 23:55:26       1.21           48     30.46        59   \n",
       "2016-09-29 23:50:23       1.21           48     30.46        58   \n",
       "2016-09-29 23:45:26       1.23           48     30.46        57   \n",
       "2016-09-29 23:40:21       1.21           48     30.46        60   \n",
       "2016-09-29 23:35:24       1.17           48     30.46        62   \n",
       "...                        ...          ...       ...       ...   \n",
       "2016-12-01 00:20:04       1.22           44     30.43       102   \n",
       "2016-12-01 00:15:01       1.17           44     30.42       102   \n",
       "2016-12-01 00:10:01       1.20           44     30.42       102   \n",
       "2016-12-01 00:05:02       1.23           44     30.42       101   \n",
       "2016-12-01 00:00:02       1.20           44     30.43       101   \n",
       "\n",
       "                     WindDirection(Degrees)  Speed  \n",
       "datetime                                            \n",
       "2016-09-29 23:55:26                  177.39   5.62  \n",
       "2016-09-29 23:50:23                  176.78   3.37  \n",
       "2016-09-29 23:45:26                  158.75   3.37  \n",
       "2016-09-29 23:40:21                  137.71   3.37  \n",
       "2016-09-29 23:35:24                  104.95   5.62  \n",
       "...                                     ...    ...  \n",
       "2016-12-01 00:20:04                  145.42   6.75  \n",
       "2016-12-01 00:15:01                  117.78   6.75  \n",
       "2016-12-01 00:10:01                  145.19   9.00  \n",
       "2016-12-01 00:05:02                  164.19   7.87  \n",
       "2016-12-01 00:00:02                   83.59   3.37  \n",
       "\n",
       "[32686 rows x 6 columns]"
      ]
     },
     "execution_count": 8,
     "metadata": {},
     "output_type": "execute_result"
    }
   ],
   "source": [
    "df = pd.read_csv(\"/Users/hrishikeshhpillai/Documents/hrishi/gridai/forecasting/datasets/SolarPrediction2.csv\", parse_dates=['datetime'], index_col = ['datetime'])\n",
    "df"
   ]
  },
  {
   "cell_type": "code",
   "execution_count": 9,
   "metadata": {},
   "outputs": [
    {
     "data": {
      "text/html": [
       "<div>\n",
       "<style scoped>\n",
       "    .dataframe tbody tr th:only-of-type {\n",
       "        vertical-align: middle;\n",
       "    }\n",
       "\n",
       "    .dataframe tbody tr th {\n",
       "        vertical-align: top;\n",
       "    }\n",
       "\n",
       "    .dataframe thead th {\n",
       "        text-align: right;\n",
       "    }\n",
       "</style>\n",
       "<table border=\"1\" class=\"dataframe\">\n",
       "  <thead>\n",
       "    <tr style=\"text-align: right;\">\n",
       "      <th></th>\n",
       "      <th>Radiation</th>\n",
       "      <th>Temperature</th>\n",
       "      <th>Pressure</th>\n",
       "      <th>Humidity</th>\n",
       "      <th>WindDirection(Degrees)</th>\n",
       "      <th>Speed</th>\n",
       "    </tr>\n",
       "    <tr>\n",
       "      <th>datetime</th>\n",
       "      <th></th>\n",
       "      <th></th>\n",
       "      <th></th>\n",
       "      <th></th>\n",
       "      <th></th>\n",
       "      <th></th>\n",
       "    </tr>\n",
       "  </thead>\n",
       "  <tbody>\n",
       "    <tr>\n",
       "      <th>2016-09-01 00:00:08</th>\n",
       "      <td>2.58</td>\n",
       "      <td>51</td>\n",
       "      <td>30.43</td>\n",
       "      <td>103</td>\n",
       "      <td>77.27</td>\n",
       "      <td>11.25</td>\n",
       "    </tr>\n",
       "    <tr>\n",
       "      <th>2016-09-01 00:05:10</th>\n",
       "      <td>2.83</td>\n",
       "      <td>51</td>\n",
       "      <td>30.43</td>\n",
       "      <td>103</td>\n",
       "      <td>153.44</td>\n",
       "      <td>9.00</td>\n",
       "    </tr>\n",
       "    <tr>\n",
       "      <th>2016-09-01 00:20:06</th>\n",
       "      <td>2.16</td>\n",
       "      <td>51</td>\n",
       "      <td>30.43</td>\n",
       "      <td>103</td>\n",
       "      <td>142.04</td>\n",
       "      <td>7.87</td>\n",
       "    </tr>\n",
       "    <tr>\n",
       "      <th>2016-09-01 00:25:05</th>\n",
       "      <td>2.21</td>\n",
       "      <td>51</td>\n",
       "      <td>30.43</td>\n",
       "      <td>103</td>\n",
       "      <td>144.12</td>\n",
       "      <td>18.00</td>\n",
       "    </tr>\n",
       "    <tr>\n",
       "      <th>2016-09-01 00:30:09</th>\n",
       "      <td>2.25</td>\n",
       "      <td>51</td>\n",
       "      <td>30.43</td>\n",
       "      <td>103</td>\n",
       "      <td>67.42</td>\n",
       "      <td>11.25</td>\n",
       "    </tr>\n",
       "    <tr>\n",
       "      <th>...</th>\n",
       "      <td>...</td>\n",
       "      <td>...</td>\n",
       "      <td>...</td>\n",
       "      <td>...</td>\n",
       "      <td>...</td>\n",
       "      <td>...</td>\n",
       "    </tr>\n",
       "    <tr>\n",
       "      <th>2016-12-31 23:35:02</th>\n",
       "      <td>1.22</td>\n",
       "      <td>41</td>\n",
       "      <td>30.34</td>\n",
       "      <td>83</td>\n",
       "      <td>238.94</td>\n",
       "      <td>6.75</td>\n",
       "    </tr>\n",
       "    <tr>\n",
       "      <th>2016-12-31 23:40:01</th>\n",
       "      <td>1.21</td>\n",
       "      <td>41</td>\n",
       "      <td>30.34</td>\n",
       "      <td>82</td>\n",
       "      <td>236.79</td>\n",
       "      <td>5.62</td>\n",
       "    </tr>\n",
       "    <tr>\n",
       "      <th>2016-12-31 23:45:04</th>\n",
       "      <td>1.21</td>\n",
       "      <td>42</td>\n",
       "      <td>30.34</td>\n",
       "      <td>81</td>\n",
       "      <td>218.28</td>\n",
       "      <td>7.87</td>\n",
       "    </tr>\n",
       "    <tr>\n",
       "      <th>2016-12-31 23:50:03</th>\n",
       "      <td>1.19</td>\n",
       "      <td>41</td>\n",
       "      <td>30.34</td>\n",
       "      <td>80</td>\n",
       "      <td>215.23</td>\n",
       "      <td>7.87</td>\n",
       "    </tr>\n",
       "    <tr>\n",
       "      <th>2016-12-31 23:55:01</th>\n",
       "      <td>1.21</td>\n",
       "      <td>41</td>\n",
       "      <td>30.34</td>\n",
       "      <td>81</td>\n",
       "      <td>215.56</td>\n",
       "      <td>9.00</td>\n",
       "    </tr>\n",
       "  </tbody>\n",
       "</table>\n",
       "<p>32686 rows × 6 columns</p>\n",
       "</div>"
      ],
      "text/plain": [
       "                     Radiation  Temperature  Pressure  Humidity  \\\n",
       "datetime                                                          \n",
       "2016-09-01 00:00:08       2.58           51     30.43       103   \n",
       "2016-09-01 00:05:10       2.83           51     30.43       103   \n",
       "2016-09-01 00:20:06       2.16           51     30.43       103   \n",
       "2016-09-01 00:25:05       2.21           51     30.43       103   \n",
       "2016-09-01 00:30:09       2.25           51     30.43       103   \n",
       "...                        ...          ...       ...       ...   \n",
       "2016-12-31 23:35:02       1.22           41     30.34        83   \n",
       "2016-12-31 23:40:01       1.21           41     30.34        82   \n",
       "2016-12-31 23:45:04       1.21           42     30.34        81   \n",
       "2016-12-31 23:50:03       1.19           41     30.34        80   \n",
       "2016-12-31 23:55:01       1.21           41     30.34        81   \n",
       "\n",
       "                     WindDirection(Degrees)  Speed  \n",
       "datetime                                            \n",
       "2016-09-01 00:00:08                   77.27  11.25  \n",
       "2016-09-01 00:05:10                  153.44   9.00  \n",
       "2016-09-01 00:20:06                  142.04   7.87  \n",
       "2016-09-01 00:25:05                  144.12  18.00  \n",
       "2016-09-01 00:30:09                   67.42  11.25  \n",
       "...                                     ...    ...  \n",
       "2016-12-31 23:35:02                  238.94   6.75  \n",
       "2016-12-31 23:40:01                  236.79   5.62  \n",
       "2016-12-31 23:45:04                  218.28   7.87  \n",
       "2016-12-31 23:50:03                  215.23   7.87  \n",
       "2016-12-31 23:55:01                  215.56   9.00  \n",
       "\n",
       "[32686 rows x 6 columns]"
      ]
     },
     "execution_count": 9,
     "metadata": {},
     "output_type": "execute_result"
    }
   ],
   "source": [
    "df = df.sort_values(by =\"datetime\", ascending = True)\n",
    "df"
   ]
  },
  {
   "cell_type": "code",
   "execution_count": 10,
   "metadata": {},
   "outputs": [
    {
     "data": {
      "text/plain": [
       "array([[-0.64747457, -0.01665121,  0.1302504 ,  1.07671743, -0.79623451,\n",
       "         1.43424875],\n",
       "       [-0.64668321, -0.01665121,  0.1302504 ,  1.07671743,  0.11964207,\n",
       "         0.78962722],\n",
       "       [-0.64880405, -0.01665121,  0.1302504 ,  1.07671743, -0.01743281,\n",
       "         0.46588396],\n",
       "       ...,\n",
       "       [-0.65181123, -1.4680154 , -1.51592086,  0.23023219,  0.89928546,\n",
       "         0.46588396],\n",
       "       [-0.65187453, -1.62927808, -1.51592086,  0.19175559,  0.86261192,\n",
       "         0.46588396],\n",
       "       [-0.65181123, -1.62927808, -1.51592086,  0.23023219,  0.86657988,\n",
       "         0.78962722]])"
      ]
     },
     "execution_count": 10,
     "metadata": {},
     "output_type": "execute_result"
    }
   ],
   "source": [
    "from sklearn.preprocessing import StandardScaler\n",
    "scaler = StandardScaler()\n",
    "scaler = scaler.fit(df)\n",
    "df = scaler.transform(df)\n",
    "df"
   ]
  },
  {
   "cell_type": "code",
   "execution_count": 15,
   "metadata": {},
   "outputs": [
    {
     "data": {
      "text/plain": [
       "(32686, 6)"
      ]
     },
     "execution_count": 15,
     "metadata": {},
     "output_type": "execute_result"
    }
   ],
   "source": [
    "X = df[:]\n",
    "X.shape"
   ]
  },
  {
   "cell_type": "code",
   "execution_count": 28,
   "metadata": {},
   "outputs": [
    {
     "data": {
      "text/plain": [
       "array([[-0.64668321],\n",
       "       [-0.64880405],\n",
       "       [-0.64864578],\n",
       "       ...,\n",
       "       [-0.65181123],\n",
       "       [-0.65187453],\n",
       "       [-0.65181123]])"
      ]
     },
     "execution_count": 28,
     "metadata": {},
     "output_type": "execute_result"
    }
   ],
   "source": [
    "y = df[1:,:1]\n",
    "y.shape\n",
    "y"
   ]
  },
  {
   "cell_type": "code",
   "execution_count": 13,
   "metadata": {},
   "outputs": [
    {
     "data": {
      "text/plain": [
       "array([], shape=(0, 6), dtype=float64)"
      ]
     },
     "execution_count": 13,
     "metadata": {},
     "output_type": "execute_result"
    }
   ],
   "source": [
    "WINDOW = 38\n",
    "HORIZON = 1\n",
    "X_train = []\n",
    "y_train = []\n",
    "for i in range(0, len(X)):\n",
    "    X_train.append(X[0:WINDOW])\n",
    "y_train = y[39:]\n",
    "y_train"
   ]
  },
  {
   "cell_type": "code",
   "execution_count": 188,
   "metadata": {},
   "outputs": [],
   "source": [
    "import numpy as np\n",
    "y_train = np.array(y_train)"
   ]
  },
  {
   "cell_type": "code",
   "execution_count": 190,
   "metadata": {},
   "outputs": [],
   "source": [
    "X_train = np.array(X_train)"
   ]
  },
  {
   "cell_type": "code",
   "execution_count": 195,
   "metadata": {},
   "outputs": [
    {
     "data": {
      "text/plain": [
       "((32647, 38, 6), (32647, 1))"
      ]
     },
     "execution_count": 195,
     "metadata": {},
     "output_type": "execute_result"
    }
   ],
   "source": [
    "X_train = X_train[:32647]\n",
    "X_train.shape, y_train.shape"
   ]
  },
  {
   "cell_type": "code",
   "execution_count": 196,
   "metadata": {},
   "outputs": [
    {
     "data": {
      "text/plain": [
       "(38, 6)"
      ]
     },
     "execution_count": 196,
     "metadata": {},
     "output_type": "execute_result"
    }
   ],
   "source": [
    "X_train.shape[1], X_train.shape[2]"
   ]
  },
  {
   "cell_type": "code",
   "execution_count": 197,
   "metadata": {},
   "outputs": [],
   "source": [
    "model = tf.keras.Sequential([\n",
    "    tf.keras.layers.LSTM(64, activation='relu', input_shape =(X_train.shape[1], X_train.shape[2]), return_sequences=True),\n",
    "    tf.keras.layers.LSTM(64, activation='relu', return_sequences=False),\n",
    "    tf.keras.layers.Dropout(0.2),\n",
    "    tf.keras.layers.Dense(y_train.shape[1])\n",
    "])"
   ]
  },
  {
   "cell_type": "code",
   "execution_count": 198,
   "metadata": {},
   "outputs": [],
   "source": [
    "model.compile(optimizer='adam', loss = 'mse')"
   ]
  },
  {
   "cell_type": "code",
   "execution_count": 199,
   "metadata": {},
   "outputs": [
    {
     "name": "stdout",
     "output_type": "stream",
     "text": [
      "Model: \"sequential\"\n",
      "_________________________________________________________________\n",
      " Layer (type)                Output Shape              Param #   \n",
      "=================================================================\n",
      " lstm (LSTM)                 (None, 38, 64)            18176     \n",
      "                                                                 \n",
      " lstm_1 (LSTM)               (None, 64)                33024     \n",
      "                                                                 \n",
      " dropout (Dropout)           (None, 64)                0         \n",
      "                                                                 \n",
      " dense (Dense)               (None, 1)                 65        \n",
      "                                                                 \n",
      "=================================================================\n",
      "Total params: 51265 (200.25 KB)\n",
      "Trainable params: 51265 (200.25 KB)\n",
      "Non-trainable params: 0 (0.00 Byte)\n",
      "_________________________________________________________________\n"
     ]
    }
   ],
   "source": [
    "model.summary()"
   ]
  },
  {
   "cell_type": "code",
   "execution_count": 200,
   "metadata": {},
   "outputs": [
    {
     "name": "stdout",
     "output_type": "stream",
     "text": [
      "Epoch 1/10\n",
      "817/817 [==============================] - 15s 18ms/step - loss: 119899.2578 - val_loss: 75944.4766\n",
      "Epoch 2/10\n",
      "817/817 [==============================] - 14s 17ms/step - loss: 108926.9375 - val_loss: 72217.0391\n",
      "Epoch 3/10\n",
      "817/817 [==============================] - 14s 17ms/step - loss: 108409.6719 - val_loss: 73666.3750\n",
      "Epoch 4/10\n",
      "817/817 [==============================] - 14s 17ms/step - loss: 108969.1172 - val_loss: 70929.7812\n",
      "Epoch 5/10\n",
      "817/817 [==============================] - 14s 17ms/step - loss: 109066.8516 - val_loss: 71700.6328\n",
      "Epoch 6/10\n",
      "817/817 [==============================] - 14s 17ms/step - loss: 108487.3750 - val_loss: 72992.1328\n",
      "Epoch 7/10\n",
      "817/817 [==============================] - 14s 17ms/step - loss: 108263.5469 - val_loss: 72956.8828\n",
      "Epoch 8/10\n",
      "817/817 [==============================] - 14s 17ms/step - loss: 108533.6719 - val_loss: 70583.4453\n",
      "Epoch 9/10\n",
      "817/817 [==============================] - 14s 17ms/step - loss: 108516.9141 - val_loss: 71421.6953\n",
      "Epoch 10/10\n",
      "817/817 [==============================] - 14s 17ms/step - loss: 107998.9062 - val_loss: 71157.0391\n"
     ]
    }
   ],
   "source": [
    "results = model.fit(X_train, y_train, epochs = 10, batch_size=32, validation_split=0.2, verbose=1)"
   ]
  },
  {
   "cell_type": "code",
   "execution_count": null,
   "metadata": {},
   "outputs": [],
   "source": []
  }
 ],
 "metadata": {
  "kernelspec": {
   "display_name": "venv",
   "language": "python",
   "name": "python3"
  },
  "language_info": {
   "codemirror_mode": {
    "name": "ipython",
    "version": 3
   },
   "file_extension": ".py",
   "mimetype": "text/x-python",
   "name": "python",
   "nbconvert_exporter": "python",
   "pygments_lexer": "ipython3",
   "version": "3.11.6"
  }
 },
 "nbformat": 4,
 "nbformat_minor": 2
}
